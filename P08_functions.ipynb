{
  "cells": [
    {
      "cell_type": "markdown",
      "metadata": {
        "id": "view-in-github",
        "colab_type": "text"
      },
      "source": [
        "<a href=\"https://colab.research.google.com/github/BA77-CODE/master_ITM/blob/main/P08_functions.ipynb\" target=\"_parent\"><img src=\"https://colab.research.google.com/assets/colab-badge.svg\" alt=\"Open In Colab\"/></a>"
      ]
    },
    {
      "cell_type": "markdown",
      "metadata": {
        "id": "F1dZT2ZC26ug"
      },
      "source": [
        "### Working with functions"
      ]
    },
    {
      "cell_type": "markdown",
      "metadata": {
        "id": "Pb-slJcn26uk"
      },
      "source": [
        "__Function definitions__"
      ]
    },
    {
      "cell_type": "code",
      "execution_count": 2,
      "metadata": {
        "id": "xo73M54H26ul"
      },
      "outputs": [],
      "source": [
        "def check_even(b):\n",
        "    if b % 2 == 0:\n",
        "        even = True\n",
        "    else:\n",
        "        even = False # odd\n",
        "    return even"
      ]
    },
    {
      "cell_type": "code",
      "execution_count": 4,
      "metadata": {
        "scrolled": true,
        "colab": {
          "base_uri": "https://localhost:8080/"
        },
        "id": "U3e2TkbQ26un",
        "outputId": "09f0f189-1a2f-45b6-deb0-e73b5b45b942"
      },
      "outputs": [
        {
          "output_type": "execute_result",
          "data": {
            "text/plain": [
              "True"
            ]
          },
          "metadata": {},
          "execution_count": 4
        }
      ],
      "source": [
        "res = check_even(4)\n",
        "res"
      ]
    },
    {
      "cell_type": "code",
      "execution_count": null,
      "metadata": {
        "id": "LNEtZEDe26up"
      },
      "outputs": [],
      "source": [
        "def check_even2(a):\n",
        "    if (type(a) is int) and (a % 2 == 0):\n",
        "        even = True\n",
        "    else:\n",
        "        even = False # odd\n",
        "    return even"
      ]
    },
    {
      "cell_type": "code",
      "execution_count": null,
      "metadata": {
        "id": "Lv6WCDl726up",
        "outputId": "fadaf364-747b-4683-f1ef-c60d51e4dbd0"
      },
      "outputs": [
        {
          "data": {
            "text/plain": [
              "True"
            ]
          },
          "execution_count": 15,
          "metadata": {},
          "output_type": "execute_result"
        }
      ],
      "source": [
        "check_even2(4)"
      ]
    },
    {
      "cell_type": "code",
      "execution_count": null,
      "metadata": {
        "id": "6E7ZEfu826uq"
      },
      "outputs": [],
      "source": [
        "def string_compare(str1, str2):\n",
        "    \"\"\"compares 2 strings passed as arguments.\n",
        "    Returns True or False depending on whether\n",
        "    they are the same or different.\"\"\"\n",
        "    if type(str1) is str and type(str2) is str:\n",
        "        print(\"Correct strings\")\n",
        "        if str1.upper().strip() == str2.upper().strip():\n",
        "            print(\"Equals\")\n",
        "            return True\n",
        "        else:\n",
        "            print(\"Diferrent\")\n",
        "            return False\n",
        "    else:\n",
        "        print(\"Variables must be of type string\")"
      ]
    },
    {
      "cell_type": "markdown",
      "metadata": {
        "id": "wxi7_9gj26ur"
      },
      "source": [
        "__Llamada__ a la función"
      ]
    },
    {
      "cell_type": "code",
      "execution_count": null,
      "metadata": {
        "id": "vf2oRtVc26u3",
        "outputId": "16770b64-e8c3-4e2e-b5e6-7fd7525115cc"
      },
      "outputs": [
        {
          "name": "stdout",
          "output_type": "stream",
          "text": [
            "Correct strings\n",
            "Equals\n"
          ]
        },
        {
          "data": {
            "text/plain": [
              "True"
            ]
          },
          "execution_count": 10,
          "metadata": {},
          "output_type": "execute_result"
        }
      ],
      "source": [
        "c1 = \"Madrid \"\n",
        "c2 = \"   MaDRID   \"\n",
        "res = string_compare(c2, c1)\n",
        "res"
      ]
    },
    {
      "cell_type": "code",
      "execution_count": null,
      "metadata": {
        "id": "8I7mSkxb26u4",
        "outputId": "cba37e11-a153-41bd-c675-967fb9326fad"
      },
      "outputs": [
        {
          "name": "stdout",
          "output_type": "stream",
          "text": [
            "Correct strings\n",
            "Equals\n"
          ]
        },
        {
          "data": {
            "text/plain": [
              "True"
            ]
          },
          "execution_count": 11,
          "metadata": {},
          "output_type": "execute_result"
        }
      ],
      "source": [
        "string_compare(str1=c1, str2=c2)"
      ]
    },
    {
      "cell_type": "code",
      "execution_count": null,
      "metadata": {
        "id": "34CIwgeH26u4"
      },
      "outputs": [],
      "source": [
        "Function to get the day of the week from a date"
      ]
    },
    {
      "cell_type": "code",
      "execution_count": null,
      "metadata": {
        "id": "fZYbhkGT26u5"
      },
      "outputs": [],
      "source": [
        "def week_day(v_date):\n",
        "    wd = v_date.weekday()\n",
        "    if wd == 0:\n",
        "        wds = \"Monday\"\n",
        "    elif wd == 1:\n",
        "        wds = \"Tuesday\"\n",
        "    elif wd == 2:\n",
        "        wds = \"Wednesday\"\n",
        "    elif wd == 3:\n",
        "        wds = \"Thursday\"\n",
        "    elif wd == 4:\n",
        "        wds = \"Friday\"\n",
        "    elif wd == 5:\n",
        "        wds = \"Saturday\"\n",
        "    else: wds = \"Sunday\"\n",
        "    return wds #"
      ]
    },
    {
      "cell_type": "code",
      "execution_count": null,
      "metadata": {
        "id": "H0fTN4uU26u5",
        "outputId": "912c0707-819e-4605-db10-20bccf117f25"
      },
      "outputs": [
        {
          "data": {
            "text/plain": [
              "'Monday'"
            ]
          },
          "execution_count": 16,
          "metadata": {},
          "output_type": "execute_result"
        }
      ],
      "source": [
        "from datetime import date  #para trabajar con fecha\n",
        "d = date.today()\n",
        "#d = date(2024,2,19)\n",
        "week_day(v_date=d)"
      ]
    },
    {
      "cell_type": "markdown",
      "metadata": {
        "id": "XB8ayOai26u5"
      },
      "source": [
        "data types in a function"
      ]
    },
    {
      "cell_type": "code",
      "execution_count": null,
      "metadata": {
        "id": "an3jaoHD26u6"
      },
      "outputs": [],
      "source": [
        "def repit_string(varstr: str,repit: int) -> str:\n",
        "    return varstr * repit"
      ]
    },
    {
      "cell_type": "code",
      "execution_count": null,
      "metadata": {
        "id": "xKrNYjtL26u6",
        "outputId": "7754528b-dfde-4b33-f624-dd2fb3929ba5"
      },
      "outputs": [
        {
          "data": {
            "text/plain": [
              "'hellohellohellohello'"
            ]
          },
          "execution_count": 18,
          "metadata": {},
          "output_type": "execute_result"
        }
      ],
      "source": [
        "repit_string(\"hello\", 4)"
      ]
    },
    {
      "cell_type": "markdown",
      "metadata": {
        "id": "76X7Gz4j26u6"
      },
      "source": [
        "Examples of lambda functions and operators: map, filter"
      ]
    },
    {
      "cell_type": "code",
      "execution_count": null,
      "metadata": {
        "id": "Tv6X6K5j26u6"
      },
      "outputs": [],
      "source": [
        "def suma3(x):\n",
        "    return (x + 3)"
      ]
    },
    {
      "cell_type": "code",
      "execution_count": null,
      "metadata": {
        "id": "b5J6xngi26u6",
        "outputId": "26823d2f-33c4-428d-96d8-8a93ace41785"
      },
      "outputs": [
        {
          "data": {
            "text/plain": [
              "5"
            ]
          },
          "execution_count": 20,
          "metadata": {},
          "output_type": "execute_result"
        }
      ],
      "source": [
        "suma3(2)"
      ]
    },
    {
      "cell_type": "code",
      "execution_count": null,
      "metadata": {
        "id": "mFCGt1P426u7",
        "outputId": "589b0f6c-c284-452c-d58c-54b71cde7987"
      },
      "outputs": [
        {
          "data": {
            "text/plain": [
              "5"
            ]
          },
          "execution_count": 21,
          "metadata": {},
          "output_type": "execute_result"
        }
      ],
      "source": [
        "(lambda x: x+3)(2)"
      ]
    },
    {
      "cell_type": "code",
      "execution_count": null,
      "metadata": {
        "id": "NiU4TLef26u7"
      },
      "outputs": [],
      "source": [
        "suma3l = lambda x: x+3"
      ]
    },
    {
      "cell_type": "code",
      "execution_count": null,
      "metadata": {
        "id": "NOGsy2of26u7",
        "outputId": "88a41ce2-8a50-45b7-bfbd-df9f23d644d9"
      },
      "outputs": [
        {
          "data": {
            "text/plain": [
              "6"
            ]
          },
          "execution_count": 23,
          "metadata": {},
          "output_type": "execute_result"
        }
      ],
      "source": [
        "suma3l(3)"
      ]
    },
    {
      "cell_type": "markdown",
      "metadata": {
        "id": "ht5MyEwd26u8"
      },
      "source": [
        "Ejemplos __map__, __filter__ y __reduce__"
      ]
    },
    {
      "cell_type": "code",
      "execution_count": null,
      "metadata": {
        "id": "8JOvsUO-26u8",
        "outputId": "bec35dd5-9ded-494a-ffb1-69516867b181"
      },
      "outputs": [
        {
          "data": {
            "text/plain": [
              "range(0, 10)"
            ]
          },
          "execution_count": 24,
          "metadata": {},
          "output_type": "execute_result"
        }
      ],
      "source": [
        "range(10)"
      ]
    },
    {
      "cell_type": "code",
      "execution_count": null,
      "metadata": {
        "id": "vjwoXN0G26u8",
        "outputId": "63ded745-5582-4c40-c8ca-5f7ffb0f61bf"
      },
      "outputs": [
        {
          "data": {
            "text/plain": [
              "[4, 5, 6]"
            ]
          },
          "execution_count": 25,
          "metadata": {},
          "output_type": "execute_result"
        }
      ],
      "source": [
        "lis1 = [1,2,3]\n",
        "list(map(suma3, lis1))"
      ]
    },
    {
      "cell_type": "code",
      "execution_count": null,
      "metadata": {
        "id": "GbHAjS2126u8",
        "outputId": "08085424-dae0-49e9-d453-e721a140f83d"
      },
      "outputs": [
        {
          "data": {
            "text/plain": [
              "[4, 5, 6]"
            ]
          },
          "execution_count": 26,
          "metadata": {},
          "output_type": "execute_result"
        }
      ],
      "source": [
        "list(map(lambda x: x+3, lis1))"
      ]
    },
    {
      "cell_type": "code",
      "execution_count": null,
      "metadata": {
        "id": "0I2zfzBa26u9",
        "outputId": "693c5602-6107-410f-b869-99a8b7cc9586"
      },
      "outputs": [
        {
          "data": {
            "text/plain": [
              "[1, 2, 3]"
            ]
          },
          "execution_count": 27,
          "metadata": {},
          "output_type": "execute_result"
        }
      ],
      "source": [
        "lis1"
      ]
    },
    {
      "cell_type": "code",
      "execution_count": null,
      "metadata": {
        "id": "MJBFnJHF26u9",
        "outputId": "9ff40943-ea70-4e44-dc7c-9665a12f5a56"
      },
      "outputs": [
        {
          "data": {
            "text/plain": [
              "[False, False, True]"
            ]
          },
          "execution_count": 28,
          "metadata": {},
          "output_type": "execute_result"
        }
      ],
      "source": [
        "list(map(lambda x: x > 2, lis1))"
      ]
    },
    {
      "cell_type": "code",
      "execution_count": null,
      "metadata": {
        "id": "JUvZimC-26u9",
        "outputId": "52c9dd9f-f7c3-4796-d4e9-4bdaca5a5a2f"
      },
      "outputs": [
        {
          "data": {
            "text/plain": [
              "[3]"
            ]
          },
          "execution_count": 29,
          "metadata": {},
          "output_type": "execute_result"
        }
      ],
      "source": [
        "list(filter(lambda x: x > 2, lis1))"
      ]
    },
    {
      "cell_type": "code",
      "execution_count": null,
      "metadata": {
        "id": "-YkXeMCX26u-",
        "outputId": "722adbaa-e848-4b52-ed00-9e3230ea6d27"
      },
      "outputs": [
        {
          "data": {
            "text/plain": [
              "[5, 6]"
            ]
          },
          "execution_count": 30,
          "metadata": {},
          "output_type": "execute_result"
        }
      ],
      "source": [
        "list(filter(lambda x: x > 4 ,map(lambda x: x + 3, lis1) ))"
      ]
    },
    {
      "cell_type": "code",
      "execution_count": null,
      "metadata": {
        "id": "hjU1CZs526u-"
      },
      "outputs": [],
      "source": [
        "lis1 = list(range(5000000))"
      ]
    },
    {
      "cell_type": "code",
      "execution_count": null,
      "metadata": {
        "id": "L6SNAST826u-",
        "outputId": "9eee40e4-9775-446c-cd01-3c0e80cbdba6"
      },
      "outputs": [
        {
          "data": {
            "text/plain": [
              "3000000"
            ]
          },
          "execution_count": 31,
          "metadata": {},
          "output_type": "execute_result"
        }
      ],
      "source": [
        "len(lis1)"
      ]
    },
    {
      "cell_type": "code",
      "execution_count": null,
      "metadata": {
        "id": "EJ8WOPIV26u-",
        "outputId": "2ba5cb59-bac6-4e22-8234-f35f6a0f4ae6"
      },
      "outputs": [
        {
          "name": "stdout",
          "output_type": "stream",
          "text": [
            "2.08 s ± 39.6 ms per loop (mean ± std. dev. of 7 runs, 1 loop each)\n"
          ]
        }
      ],
      "source": [
        "%%timeit\n",
        "lis2 = list(map(lambda x: 2*x + 3, lis1))\n",
        "lis3 = list(map(lambda x: x - 4, lis2))\n",
        "lis4 = list(filter(lambda x: x % 5 == 0, lis3))"
      ]
    },
    {
      "cell_type": "code",
      "execution_count": null,
      "metadata": {
        "id": "8jQCiI5W26u_",
        "outputId": "77a5c5e3-66c6-43e1-c82b-5b0bbf933c34"
      },
      "outputs": [
        {
          "data": {
            "text/plain": [
              "200000"
            ]
          },
          "execution_count": 21,
          "metadata": {},
          "output_type": "execute_result"
        }
      ],
      "source": [
        "len(lis3)"
      ]
    },
    {
      "cell_type": "code",
      "execution_count": null,
      "metadata": {
        "id": "sFD9h07z26vA",
        "outputId": "5303d968-68e0-44ab-916e-f1a8961b5ee1"
      },
      "outputs": [
        {
          "name": "stdout",
          "output_type": "stream",
          "text": [
            "2.07 s ± 163 ms per loop (mean ± std. dev. of 7 runs, 1 loop each)\n"
          ]
        }
      ],
      "source": [
        "%%timeit\n",
        "lis3 = list(filter(lambda x: x % 5 == 0, map(lambda x: x - 4 ,  map(lambda x: 2*x + 3, lis1) )))"
      ]
    },
    {
      "cell_type": "code",
      "execution_count": null,
      "metadata": {
        "id": "_uxr-LOJ26vA",
        "outputId": "f1815f18-51cd-4567-8c2c-a0ffe2fc1524"
      },
      "outputs": [
        {
          "data": {
            "text/plain": [
              "200000"
            ]
          },
          "execution_count": 38,
          "metadata": {},
          "output_type": "execute_result"
        }
      ],
      "source": [
        "len(lis3)"
      ]
    },
    {
      "cell_type": "markdown",
      "metadata": {
        "id": "s9tuk38v26vB"
      },
      "source": [
        "Review and monitor __performance__ using Python's cprofilers"
      ]
    },
    {
      "cell_type": "code",
      "execution_count": null,
      "metadata": {
        "id": "Y9RjZHoW26vB"
      },
      "outputs": [],
      "source": [
        "import cProfile"
      ]
    },
    {
      "cell_type": "code",
      "execution_count": null,
      "metadata": {
        "id": "Uz-IkDXK26vB"
      },
      "outputs": [],
      "source": [
        "profiler = cProfile.Profile()\n",
        "profiler.enable()"
      ]
    },
    {
      "cell_type": "code",
      "execution_count": null,
      "metadata": {
        "id": "jwfWIQXI26vJ"
      },
      "outputs": [],
      "source": [
        "lis1 = list(range(100))\n",
        "lis3 = list(filter(lambda x: x % 5 == 0, map(lambda x: x - 4 ,  map(lambda x: 2*x + 3, lis1) )))"
      ]
    },
    {
      "cell_type": "code",
      "execution_count": null,
      "metadata": {
        "id": "V-g-WvzJ26vK"
      },
      "outputs": [],
      "source": [
        "profiler.disable()\n",
        "profiler.dump_stats(\"example.stats\")"
      ]
    },
    {
      "cell_type": "markdown",
      "metadata": {
        "id": "_y5WJi2I26vK"
      },
      "source": [
        "__ncalls__: It represents a number of times that function was called. It can have two numbers separated by a slash in case of recursive calls. The first number, in that case, represents total calls including recursive calls and the second number represents primitive calls excluding recursive calls.  \n",
        "__tottime__: It represents total time spent in that function excluding time spent in sub-functions of that function.  \n",
        "__percall__ : It represents tottime divided by ncalls.  \n",
        "__cumtime__ : It represents total time spent in that function including time-spent in sub-functions of that function.  \n",
        "__percall__ : It represents cumtime divided by ncalls.  \n",
        "__filename:lineno(function)__ : It represents filename, line number in file and function name.  "
      ]
    },
    {
      "cell_type": "code",
      "execution_count": null,
      "metadata": {
        "id": "ECOk0L2426vK"
      },
      "outputs": [],
      "source": [
        "import pstats\n",
        "stats = pstats.Stats(\"example.stats\")\n",
        "stats.print_stats()"
      ]
    },
    {
      "cell_type": "markdown",
      "metadata": {
        "id": "LzAsfgwj26vK"
      },
      "source": [
        "Examples __reduces__"
      ]
    },
    {
      "cell_type": "code",
      "execution_count": null,
      "metadata": {
        "id": "myLPFz6U26vL"
      },
      "outputs": [],
      "source": [
        "from functools import reduce"
      ]
    },
    {
      "cell_type": "markdown",
      "metadata": {
        "id": "gMCeg_ev26vL"
      },
      "source": [
        "Add up all the elements"
      ]
    },
    {
      "cell_type": "code",
      "execution_count": null,
      "metadata": {
        "id": "2yMJYhAA26vL",
        "outputId": "d4bc9f46-005d-4588-8de8-be4278497752"
      },
      "outputs": [
        {
          "data": {
            "text/plain": [
              "13"
            ]
          },
          "execution_count": 5,
          "metadata": {},
          "output_type": "execute_result"
        }
      ],
      "source": [
        "lis1 = [2, 4, 7]\n",
        "res = reduce((lambda x, y: x + y), lis1)\n",
        "res"
      ]
    },
    {
      "cell_type": "markdown",
      "metadata": {
        "id": "xWBcPac426vL"
      },
      "source": [
        "Multiply all elements"
      ]
    },
    {
      "cell_type": "code",
      "execution_count": null,
      "metadata": {
        "id": "zfs7b8db26vM",
        "outputId": "7326c0e6-2848-4a0a-ec67-912e2cce8c3f"
      },
      "outputs": [
        {
          "data": {
            "text/plain": [
              "56"
            ]
          },
          "execution_count": 7,
          "metadata": {},
          "output_type": "execute_result"
        }
      ],
      "source": [
        "res = reduce(lambda x, y: x * y, lis1)\n",
        "res"
      ]
    },
    {
      "cell_type": "markdown",
      "metadata": {
        "id": "UVQGYZEF26vM"
      },
      "source": [
        "Getting the maximun"
      ]
    },
    {
      "cell_type": "code",
      "execution_count": null,
      "metadata": {
        "id": "dt63JF3C26vM"
      },
      "outputs": [],
      "source": [
        "lis1 = [5,2,7,4, 9]"
      ]
    },
    {
      "cell_type": "code",
      "execution_count": null,
      "metadata": {
        "id": "DwTJMcDW26vM",
        "outputId": "207d8f53-114a-4246-bafb-89588199cb37"
      },
      "outputs": [
        {
          "data": {
            "text/plain": [
              "9"
            ]
          },
          "execution_count": 12,
          "metadata": {},
          "output_type": "execute_result"
        }
      ],
      "source": [
        "res = reduce((lambda x, y:  x if (x >= y) else y), lis1)\n",
        "res"
      ]
    },
    {
      "cell_type": "markdown",
      "metadata": {
        "id": "dJGMpp1p26vN"
      },
      "source": [
        "Add only even numbers"
      ]
    },
    {
      "cell_type": "code",
      "execution_count": null,
      "metadata": {
        "id": "LIn8saA926vN"
      },
      "outputs": [],
      "source": [
        "lis1 = [1,2,3,4,5,7,8]"
      ]
    },
    {
      "cell_type": "code",
      "execution_count": null,
      "metadata": {
        "id": "o40cKpjB26vN",
        "outputId": "943c1916-24dc-445e-de78-15a621a2d65c"
      },
      "outputs": [
        {
          "data": {
            "text/plain": [
              "14"
            ]
          },
          "execution_count": 22,
          "metadata": {},
          "output_type": "execute_result"
        }
      ],
      "source": [
        "lis1 = [0] + lis1\n",
        "res = reduce(lambda x, y: x + y if y % 2==0 else x, lis1)\n",
        "res"
      ]
    },
    {
      "cell_type": "markdown",
      "metadata": {
        "id": "6yi8S6MR26vO"
      },
      "source": [
        "Function to copy files from one directory to another"
      ]
    },
    {
      "cell_type": "code",
      "execution_count": null,
      "metadata": {
        "id": "XVh2gSML26vO"
      },
      "outputs": [],
      "source": [
        "import os    # module for working with the operating system"
      ]
    },
    {
      "cell_type": "code",
      "execution_count": null,
      "metadata": {
        "id": "hs13gMdm26vO",
        "outputId": "6676b5ca-0019-4d14-cdf3-86b778b78d40"
      },
      "outputs": [
        {
          "data": {
            "text/plain": [
              "[<DirEntry '.ipynb_checkpoints'>,\n",
              " <DirEntry 'files'>,\n",
              " <DirEntry 'P01_working_with_variables.ipynb'>,\n",
              " <DirEntry 'P02_working_with_strings.ipynb'>,\n",
              " <DirEntry 'P04_lists_tuples_set.ipynb'>,\n",
              " <DirEntry 'P06_dates.ipynb'>,\n",
              " <DirEntry 'P06_dictionaries_types_conv.ipynb'>,\n",
              " <DirEntry 'P07_condicional_and_iterative_structures.ipynb'>,\n",
              " <DirEntry 'P08_functions.ipynb'>]"
            ]
          },
          "execution_count": 37,
          "metadata": {},
          "output_type": "execute_result"
        }
      ],
      "source": [
        "list(os.scandir(os.getcwd()))"
      ]
    },
    {
      "cell_type": "code",
      "execution_count": null,
      "metadata": {
        "id": "3prfl0dG26vP"
      },
      "outputs": [],
      "source": [
        "def get_csvs():\n",
        "    os.getcwd() # we get current directory\n",
        "    dir = os.getcwd() + '\\\\files'  # source directory of files\n",
        "    dir_des = 'dir_csv' # target directory for csvs\n",
        "    os.mkdir(dir_des)  # create the target directory\n",
        "    for fil in os.scandir(dir): # iterate over all files\n",
        "        fils = str(fil.name)\n",
        "        print(\"Files: \" + fils)\n",
        "        if fils.find('csv') > 0:\n",
        "            print(\"Copying ... \" + fils)\n",
        "            os.system('copy ' + dir + '\\\\' + fils + ' ' + os.getcwd() + '\\\\' + dir_des)"
      ]
    },
    {
      "cell_type": "code",
      "execution_count": null,
      "metadata": {
        "id": "B_iIQWYu26vP",
        "outputId": "db90b4a6-4a83-47f3-fcdb-16a7ba256825"
      },
      "outputs": [
        {
          "name": "stdout",
          "output_type": "stream",
          "text": [
            "Files: f_ventas1.csv\n",
            "Copying ... f_ventas1.csv\n",
            "Files: f_ventas1.txt\n",
            "Files: f_ventas1.xlsx\n",
            "Files: f_ventas_A.xlsx\n",
            "Files: f_ventas_B.xlsx\n",
            "Files: f_ventas_C.xlsx\n",
            "Files: HR-Employee-Attrition.csv\n",
            "Copying ... HR-Employee-Attrition.csv\n"
          ]
        }
      ],
      "source": [
        "get_csvs()"
      ]
    },
    {
      "cell_type": "markdown",
      "metadata": {
        "id": "PYTTyz-r26vP"
      },
      "source": [
        "Working with fixed or variable number of arguments: * args and ** args"
      ]
    },
    {
      "cell_type": "markdown",
      "metadata": {
        "id": "5ADvAKjJ26vP"
      },
      "source": [
        "Fixed number of arguments"
      ]
    },
    {
      "cell_type": "code",
      "execution_count": null,
      "metadata": {
        "id": "LR1VJaub26vQ"
      },
      "outputs": [],
      "source": [
        "def suma1 (var1, var2, var3): # the function expects 3 values\n",
        "    return (var1 + var2 + var3)"
      ]
    },
    {
      "cell_type": "code",
      "execution_count": null,
      "metadata": {
        "id": "k5a54NWJ26vQ",
        "outputId": "e8dfe89b-a6ba-409e-94f8-d03408a00828"
      },
      "outputs": [
        {
          "data": {
            "text/plain": [
              "7"
            ]
          },
          "execution_count": 46,
          "metadata": {},
          "output_type": "execute_result"
        }
      ],
      "source": [
        "#suma1(2,3,5)\n",
        "suma1(2,4)"
      ]
    },
    {
      "cell_type": "code",
      "execution_count": null,
      "metadata": {
        "id": "5w_4tAji26vR"
      },
      "outputs": [],
      "source": [
        "def suma2 (*vars): # does not expect a defined number of values\n",
        "    print(type(vars))\n",
        "    accum = 0\n",
        "    for elem in vars:\n",
        "        accum+=elem\n",
        "    return accum"
      ]
    },
    {
      "cell_type": "code",
      "execution_count": null,
      "metadata": {
        "id": "Yv7Rx5Q926vR",
        "outputId": "a0d3ecbc-737c-4398-a10a-b7a172326d2d"
      },
      "outputs": [
        {
          "name": "stdout",
          "output_type": "stream",
          "text": [
            "<class 'tuple'>\n"
          ]
        },
        {
          "data": {
            "text/plain": [
              "9"
            ]
          },
          "execution_count": 20,
          "metadata": {},
          "output_type": "execute_result"
        }
      ],
      "source": [
        "suma2(2,3,4)"
      ]
    },
    {
      "cell_type": "code",
      "execution_count": null,
      "metadata": {
        "id": "Wk_GHqgx26vR"
      },
      "outputs": [],
      "source": [
        "def info_course(**info): # expects a variable number of key-value elements\n",
        "    for k, v in info.items(): # loop iterates over 2 elements (key and value)\n",
        "        print(k,\"=\",v)"
      ]
    },
    {
      "cell_type": "code",
      "execution_count": null,
      "metadata": {
        "id": "tKoND8DY26vS",
        "outputId": "be733d2c-00c1-4883-e4e6-b18916f6ea53"
      },
      "outputs": [
        {
          "name": "stdout",
          "output_type": "stream",
          "text": [
            "course = Python\n",
            "duration = 20\n",
            "type = Programing\n"
          ]
        }
      ],
      "source": [
        "info_course(course=\"Python\", duration = 20, type =\"Programing\")"
      ]
    }
  ],
  "metadata": {
    "kernelspec": {
      "display_name": "Python 3 (ipykernel)",
      "language": "python",
      "name": "python3"
    },
    "language_info": {
      "codemirror_mode": {
        "name": "ipython",
        "version": 3
      },
      "file_extension": ".py",
      "mimetype": "text/x-python",
      "name": "python",
      "nbconvert_exporter": "python",
      "pygments_lexer": "ipython3",
      "version": "3.10.9"
    },
    "colab": {
      "provenance": [],
      "include_colab_link": true
    }
  },
  "nbformat": 4,
  "nbformat_minor": 0
}